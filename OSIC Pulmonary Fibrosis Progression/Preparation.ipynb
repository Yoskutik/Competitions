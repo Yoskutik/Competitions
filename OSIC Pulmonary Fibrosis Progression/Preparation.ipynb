{
 "cells": [
  {
   "cell_type": "code",
   "execution_count": 1,
   "metadata": {},
   "outputs": [],
   "source": [
    "import pandas as pd\n",
    "import numpy as np\n",
    "import pydicom\n",
    "import pickle\n",
    "import glob\n",
    "import os\n",
    "\n",
    "from sklearn.preprocessing import LabelEncoder, PolynomialFeatures, StandardScaler\n",
    "from sklearn.pipeline import Pipeline\n",
    "from sklearn.linear_model import LinearRegression\n",
    "\n",
    "from skimage.transform import resize\n",
    "from awesome_progress_bar import ProgressBar"
   ]
  },
  {
   "cell_type": "code",
   "execution_count": 2,
   "metadata": {},
   "outputs": [
    {
     "data": {
      "text/html": [
       "<div>\n",
       "<style scoped>\n",
       "    .dataframe tbody tr th:only-of-type {\n",
       "        vertical-align: middle;\n",
       "    }\n",
       "\n",
       "    .dataframe tbody tr th {\n",
       "        vertical-align: top;\n",
       "    }\n",
       "\n",
       "    .dataframe thead th {\n",
       "        text-align: right;\n",
       "    }\n",
       "</style>\n",
       "<table border=\"1\" class=\"dataframe\">\n",
       "  <thead>\n",
       "    <tr style=\"text-align: right;\">\n",
       "      <th></th>\n",
       "      <th>Weeks</th>\n",
       "      <th>FVC</th>\n",
       "      <th>Age</th>\n",
       "      <th>Sex</th>\n",
       "      <th>SmokingStatus</th>\n",
       "    </tr>\n",
       "    <tr>\n",
       "      <th>Patient</th>\n",
       "      <th></th>\n",
       "      <th></th>\n",
       "      <th></th>\n",
       "      <th></th>\n",
       "      <th></th>\n",
       "    </tr>\n",
       "  </thead>\n",
       "  <tbody>\n",
       "    <tr>\n",
       "      <th>ID00007637202177411956430</th>\n",
       "      <td>-4</td>\n",
       "      <td>2315</td>\n",
       "      <td>79</td>\n",
       "      <td>1</td>\n",
       "      <td>1</td>\n",
       "    </tr>\n",
       "    <tr>\n",
       "      <th>ID00007637202177411956430</th>\n",
       "      <td>5</td>\n",
       "      <td>2214</td>\n",
       "      <td>79</td>\n",
       "      <td>1</td>\n",
       "      <td>1</td>\n",
       "    </tr>\n",
       "    <tr>\n",
       "      <th>ID00007637202177411956430</th>\n",
       "      <td>7</td>\n",
       "      <td>2061</td>\n",
       "      <td>79</td>\n",
       "      <td>1</td>\n",
       "      <td>1</td>\n",
       "    </tr>\n",
       "  </tbody>\n",
       "</table>\n",
       "</div>"
      ],
      "text/plain": [
       "                           Weeks   FVC  Age  Sex  SmokingStatus\n",
       "Patient                                                        \n",
       "ID00007637202177411956430     -4  2315   79    1              1\n",
       "ID00007637202177411956430      5  2214   79    1              1\n",
       "ID00007637202177411956430      7  2061   79    1              1"
      ]
     },
     "execution_count": 2,
     "metadata": {},
     "output_type": "execute_result"
    }
   ],
   "source": [
    "df = pd.read_csv('data/train.csv', index_col='Patient')\n",
    "df = df.drop('Percent', axis=1)\n",
    "df.Sex = LabelEncoder().fit_transform(df.Sex)\n",
    "df.SmokingStatus = LabelEncoder().fit(['Never smoked', 'Ex-smoker', 'Currently smokes']).transform(df.SmokingStatus)\n",
    "df.head(3)"
   ]
  },
  {
   "cell_type": "markdown",
   "metadata": {},
   "source": [
    "So I need to create an output for the model to train the embedding model. And I've chosen FVCs values at weeks 6, 8, 10, 12 and 18, because this weeks are the most frequent. But not every patient had measured FVC at this weeks. So, for each user I've created `LinearRegression` on the FVC from a third-order polynomial of the week."
   ]
  },
  {
   "cell_type": "code",
   "execution_count": 3,
   "metadata": {},
   "outputs": [],
   "source": [
    "def create_row(i: str):\n",
    "    tmp = df.loc[i]\n",
    "    \n",
    "    X = tmp.Weeks.values.reshape(-1, 1)\n",
    "    y = tmp.FVC\n",
    "    pipe = Pipeline([\n",
    "        ('prep', PolynomialFeatures(3)),\n",
    "        ('reg', LinearRegression())\n",
    "    ]).fit(X, y)\n",
    "    \n",
    "    def get(n):\n",
    "        return tmp[tmp.Weeks == n].FVC[0] if 0 in tmp.Weeks else pipe.predict([[n]])[0]\n",
    "    \n",
    "    weeks = df.loc[pat].Weeks\n",
    "    w = weeks.abs().min()\n",
    "    w = w if w in weeks.values else -w\n",
    "    \n",
    "    return w, [\n",
    "        get(w),  get(6), get(8),\n",
    "        get(10), get(12),  get(18),\n",
    "    ]"
   ]
  },
  {
   "cell_type": "markdown",
   "metadata": {},
   "source": [
    "These are the outputs. Also, I thought that besied the scans I can use meta data to train the model. And I've chosen to use position of the scan, `SmokingStatus`, `Sex`, `Age`, FVCs measurement of the closest week to 0, and the closest week to 0."
   ]
  },
  {
   "cell_type": "code",
   "execution_count": 4,
   "metadata": {},
   "outputs": [],
   "source": [
    "data = []\n",
    "for pat in df.index.unique():\n",
    "    tmp = df.loc[pat]\n",
    "    row = [pat]\n",
    "    w, fvcs = create_row(pat)\n",
    "    row.extend(fvcs)\n",
    "    row.extend([\n",
    "        tmp.SmokingStatus[0],\n",
    "        tmp.Sex[0],\n",
    "        tmp.Age[0],\n",
    "        w,\n",
    "    ])\n",
    "    data.append(row)"
   ]
  },
  {
   "cell_type": "code",
   "execution_count": 5,
   "metadata": {},
   "outputs": [],
   "source": [
    "df = pd.DataFrame.from_dict(data)\n",
    "df.columns = ['Patient', 'FVC_0', 'FVC_6', 'FVC_8', 'FVC_10', 'FVC_12', \n",
    "              'FVC_18', 'SmokingStatus', 'Sex', 'Age', 'Week']"
   ]
  },
  {
   "cell_type": "markdown",
   "metadata": {},
   "source": [
    "Yes, there's no need to scale output values. But I don't want to embedding model to have big outputs. So, I hove that should help."
   ]
  },
  {
   "cell_type": "code",
   "execution_count": 6,
   "metadata": {},
   "outputs": [
    {
     "data": {
      "text/html": [
       "<div>\n",
       "<style scoped>\n",
       "    .dataframe tbody tr th:only-of-type {\n",
       "        vertical-align: middle;\n",
       "    }\n",
       "\n",
       "    .dataframe tbody tr th {\n",
       "        vertical-align: top;\n",
       "    }\n",
       "\n",
       "    .dataframe thead th {\n",
       "        text-align: right;\n",
       "    }\n",
       "</style>\n",
       "<table border=\"1\" class=\"dataframe\">\n",
       "  <thead>\n",
       "    <tr style=\"text-align: right;\">\n",
       "      <th></th>\n",
       "      <th>Patient</th>\n",
       "      <th>FVC_0</th>\n",
       "      <th>FVC_6</th>\n",
       "      <th>FVC_8</th>\n",
       "      <th>FVC_10</th>\n",
       "      <th>FVC_12</th>\n",
       "      <th>FVC_18</th>\n",
       "      <th>SmokingStatus</th>\n",
       "      <th>Sex</th>\n",
       "      <th>Age</th>\n",
       "      <th>Week</th>\n",
       "    </tr>\n",
       "  </thead>\n",
       "  <tbody>\n",
       "    <tr>\n",
       "      <th>0</th>\n",
       "      <td>ID00007637202177411956430</td>\n",
       "      <td>-0.533965</td>\n",
       "      <td>-0.737345</td>\n",
       "      <td>-0.765451</td>\n",
       "      <td>-0.789803</td>\n",
       "      <td>-0.810632</td>\n",
       "      <td>-0.854286</td>\n",
       "      <td>-0.43259</td>\n",
       "      <td>0.517799</td>\n",
       "      <td>1.662082</td>\n",
       "      <td>-0.030075</td>\n",
       "    </tr>\n",
       "    <tr>\n",
       "      <th>1</th>\n",
       "      <td>ID00009637202177434476278</td>\n",
       "      <td>1.150500</td>\n",
       "      <td>1.138684</td>\n",
       "      <td>1.147208</td>\n",
       "      <td>1.151671</td>\n",
       "      <td>1.152282</td>\n",
       "      <td>1.133085</td>\n",
       "      <td>-0.43259</td>\n",
       "      <td>0.517799</td>\n",
       "      <td>0.249433</td>\n",
       "      <td>0.060150</td>\n",
       "    </tr>\n",
       "    <tr>\n",
       "      <th>2</th>\n",
       "      <td>ID00010637202177584971671</td>\n",
       "      <td>0.762048</td>\n",
       "      <td>0.532568</td>\n",
       "      <td>0.465364</td>\n",
       "      <td>0.402155</td>\n",
       "      <td>0.342767</td>\n",
       "      <td>0.185815</td>\n",
       "      <td>-0.43259</td>\n",
       "      <td>0.517799</td>\n",
       "      <td>-1.021951</td>\n",
       "      <td>0.000000</td>\n",
       "    </tr>\n",
       "  </tbody>\n",
       "</table>\n",
       "</div>"
      ],
      "text/plain": [
       "                     Patient     FVC_0     FVC_6     FVC_8    FVC_10  \\\n",
       "0  ID00007637202177411956430 -0.533965 -0.737345 -0.765451 -0.789803   \n",
       "1  ID00009637202177434476278  1.150500  1.138684  1.147208  1.151671   \n",
       "2  ID00010637202177584971671  0.762048  0.532568  0.465364  0.402155   \n",
       "\n",
       "     FVC_12    FVC_18  SmokingStatus       Sex       Age      Week  \n",
       "0 -0.810632 -0.854286       -0.43259  0.517799  1.662082 -0.030075  \n",
       "1  1.152282  1.133085       -0.43259  0.517799  0.249433  0.060150  \n",
       "2  0.342767  0.185815       -0.43259  0.517799 -1.021951  0.000000  "
      ]
     },
     "execution_count": 6,
     "metadata": {},
     "output_type": "execute_result"
    }
   ],
   "source": [
    "columns_0 = ['FVC_0', 'SmokingStatus', 'Sex', 'Age']\n",
    "columns_1 = ['FVC_6', 'FVC_8', 'FVC_10', 'FVC_12', 'FVC_18']\n",
    "scaler = StandardScaler().fit(df[columns_0])\n",
    "df[columns_1] = (df[columns_1] - df.FVC_0.mean()) / df.FVC_0.std()\n",
    "df[columns_0] = scaler.transform(df[columns_0])\n",
    "df['Week'] /= 133\n",
    "df.head(3)"
   ]
  },
  {
   "cell_type": "code",
   "execution_count": 7,
   "metadata": {},
   "outputs": [],
   "source": [
    "df.to_csv('data/train_base.csv', index=False)\n",
    "\n",
    "with open('data/scaler.pkl', 'wb') as f:\n",
    "    pickle.dump(scaler, f)"
   ]
  },
  {
   "cell_type": "code",
   "execution_count": 13,
   "metadata": {},
   "outputs": [],
   "source": [
    "images = glob.glob('data\\\\train\\\\**/*.dcm')\n",
    "target_size = (316, 316)"
   ]
  },
  {
   "cell_type": "markdown",
   "metadata": {},
   "source": [
    "Reading, resizing, adding new axis - this action takes a long time. And I deciced to create `.dat` file for each scan. That didn't seem to be a good idea for the first time, but actually, reading ready-made `.dat` tensors are much faster, when reading `.dcm` and resizing."
   ]
  },
  {
   "cell_type": "code",
   "execution_count": 12,
   "metadata": {},
   "outputs": [
    {
     "name": "stdout",
     "output_type": "stream",
     "text": [
      "Data preparation: ⠉ |=========================== 10:30 ===========================| 100.00% Complete\n"
     ]
    }
   ],
   "source": [
    "bar = ProgressBar(len(images), prefix='Data preparation')\n",
    "for path in images:\n",
    "    bar.iter()\n",
    "    try:\n",
    "        img = pydicom.dcmread(path).pixel_array\n",
    "        img = resize(img, target_size)\n",
    "        img = img[:, :, np.newaxis]\n",
    "        fp = np.memmap(path.replace('.dcm', '.dat'), dtype='float32', mode='w+', shape=(*target_size, 1))\n",
    "        fp[:] = img[:]\n",
    "        del fp\n",
    "    except:\n",
    "        pass"
   ]
  },
  {
   "cell_type": "markdown",
   "metadata": {},
   "source": [
    "Also, sometimes there are gaps in scans. For example, 5.dcm can follow after 2.dcm. And I'd like to get rid of it."
   ]
  },
  {
   "cell_type": "code",
   "execution_count": null,
   "metadata": {
    "pycharm": {
     "name": "#%%\n"
    }
   },
   "outputs": [],
   "source": [
    "tmp = os.listdir('data/train')\n",
    "bar = ProgressBar(len(tmp), 'Renaming progress')\n",
    "for d in tmp:\n",
    "    bar.iter()\n",
    "    dats = glob.glob(f'data/train/{d}/*.dat')\n",
    "    dats.sort(key=lambda d: int(d[:-4].split('\\\\')[-1]))\n",
    "    i = 0\n",
    "    for dat in dats:\n",
    "        i += 1\n",
    "        os.rename(dat, f'data/train/{d}/{i}.dat')"
   ]
  }
 ],
 "metadata": {
  "kernelspec": {
   "display_name": "Python 3",
   "language": "python",
   "name": "python3"
  },
  "language_info": {
   "codemirror_mode": {
    "name": "ipython",
    "version": 3
   },
   "file_extension": ".py",
   "mimetype": "text/x-python",
   "name": "python",
   "nbconvert_exporter": "python",
   "pygments_lexer": "ipython3",
   "version": "3.7.6"
  },
  "pycharm": {
   "stem_cell": {
    "cell_type": "raw",
    "metadata": {
     "collapsed": false
    },
    "source": []
   }
  }
 },
 "nbformat": 4,
 "nbformat_minor": 4
}
