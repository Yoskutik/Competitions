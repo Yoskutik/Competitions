{
 "cells": [
  {
   "cell_type": "markdown",
   "metadata": {},
   "source": [
    "Just another version"
   ]
  },
  {
   "cell_type": "code",
   "execution_count": 1,
   "metadata": {},
   "outputs": [],
   "source": [
    "import pandas as pd\n",
    "import numpy as np\n",
    "import pydicom\n",
    "import pickle\n",
    "import glob\n",
    "import os\n",
    "\n",
    "from sklearn.preprocessing import LabelEncoder, PolynomialFeatures, StandardScaler\n",
    "from sklearn.pipeline import Pipeline\n",
    "from sklearn.linear_model import LinearRegression\n",
    "\n",
    "from skimage.transform import resize\n",
    "from awesome_progress_bar import ProgressBar"
   ]
  },
  {
   "cell_type": "code",
   "execution_count": 2,
   "metadata": {},
   "outputs": [
    {
     "data": {
      "text/html": [
       "<div>\n",
       "<style scoped>\n",
       "    .dataframe tbody tr th:only-of-type {\n",
       "        vertical-align: middle;\n",
       "    }\n",
       "\n",
       "    .dataframe tbody tr th {\n",
       "        vertical-align: top;\n",
       "    }\n",
       "\n",
       "    .dataframe thead th {\n",
       "        text-align: right;\n",
       "    }\n",
       "</style>\n",
       "<table border=\"1\" class=\"dataframe\">\n",
       "  <thead>\n",
       "    <tr style=\"text-align: right;\">\n",
       "      <th></th>\n",
       "      <th>Weeks</th>\n",
       "      <th>FVC</th>\n",
       "      <th>Age</th>\n",
       "      <th>Sex</th>\n",
       "      <th>SmokingStatus</th>\n",
       "    </tr>\n",
       "    <tr>\n",
       "      <th>Patient</th>\n",
       "      <th></th>\n",
       "      <th></th>\n",
       "      <th></th>\n",
       "      <th></th>\n",
       "      <th></th>\n",
       "    </tr>\n",
       "  </thead>\n",
       "  <tbody>\n",
       "    <tr>\n",
       "      <th>ID00007637202177411956430</th>\n",
       "      <td>-4</td>\n",
       "      <td>2315</td>\n",
       "      <td>79</td>\n",
       "      <td>1</td>\n",
       "      <td>1</td>\n",
       "    </tr>\n",
       "    <tr>\n",
       "      <th>ID00007637202177411956430</th>\n",
       "      <td>5</td>\n",
       "      <td>2214</td>\n",
       "      <td>79</td>\n",
       "      <td>1</td>\n",
       "      <td>1</td>\n",
       "    </tr>\n",
       "    <tr>\n",
       "      <th>ID00007637202177411956430</th>\n",
       "      <td>7</td>\n",
       "      <td>2061</td>\n",
       "      <td>79</td>\n",
       "      <td>1</td>\n",
       "      <td>1</td>\n",
       "    </tr>\n",
       "  </tbody>\n",
       "</table>\n",
       "</div>"
      ],
      "text/plain": [
       "                           Weeks   FVC  Age  Sex  SmokingStatus\n",
       "Patient                                                        \n",
       "ID00007637202177411956430     -4  2315   79    1              1\n",
       "ID00007637202177411956430      5  2214   79    1              1\n",
       "ID00007637202177411956430      7  2061   79    1              1"
      ]
     },
     "execution_count": 2,
     "metadata": {},
     "output_type": "execute_result"
    }
   ],
   "source": [
    "df = pd.read_csv('data/train.csv', index_col='Patient')\n",
    "df = df.drop('Percent', axis=1)\n",
    "df.Sex = LabelEncoder().fit_transform(df.Sex)\n",
    "df.SmokingStatus = LabelEncoder().fit(['Never smoked', 'Ex-smoker', 'Currently smokes']).transform(df.SmokingStatus)\n",
    "df.head(3)"
   ]
  },
  {
   "cell_type": "code",
   "execution_count": 6,
   "metadata": {},
   "outputs": [],
   "source": [
    "def create_row(i: str):\n",
    "    tmp = df.loc[i]\n",
    "    \n",
    "    X = tmp.Weeks.values.reshape(-1, 1)\n",
    "    y = tmp.FVC\n",
    "    pipe = Pipeline([\n",
    "        ('prep', PolynomialFeatures(3)),\n",
    "        ('reg', LinearRegression())\n",
    "    ]).fit(X, y)\n",
    "    \n",
    "    def get(n):\n",
    "        return tmp[tmp.Weeks == n].FVC[0] if 0 in tmp.Weeks else pipe.predict([[n]])[0]\n",
    "    \n",
    "    weeks = df.loc[pat].Weeks\n",
    "    w = weeks.abs().min()\n",
    "    w = w if w in weeks.values else -w\n",
    "    \n",
    "    return w, [get(w), get(12), get(50)]"
   ]
  },
  {
   "cell_type": "code",
   "execution_count": 7,
   "metadata": {},
   "outputs": [],
   "source": [
    "data = []\n",
    "for pat in df.index.unique():\n",
    "    tmp = df.loc[pat]\n",
    "    row = [pat]\n",
    "    w, fvcs = create_row(pat)\n",
    "    row.extend(fvcs)\n",
    "    row.extend([\n",
    "        tmp.SmokingStatus[0],\n",
    "        tmp.Sex[0],\n",
    "        tmp.Age[0],\n",
    "        w,\n",
    "    ])\n",
    "    data.append(row)"
   ]
  },
  {
   "cell_type": "code",
   "execution_count": 8,
   "metadata": {},
   "outputs": [],
   "source": [
    "df = pd.DataFrame.from_dict(data)\n",
    "df.columns = ['Patient', 'FVC_0', 'FVC_12', 'FVC_50', 'SmokingStatus', 'Sex', 'Age', 'Week']"
   ]
  },
  {
   "cell_type": "code",
   "execution_count": 9,
   "metadata": {},
   "outputs": [
    {
     "data": {
      "text/html": [
       "<div>\n",
       "<style scoped>\n",
       "    .dataframe tbody tr th:only-of-type {\n",
       "        vertical-align: middle;\n",
       "    }\n",
       "\n",
       "    .dataframe tbody tr th {\n",
       "        vertical-align: top;\n",
       "    }\n",
       "\n",
       "    .dataframe thead th {\n",
       "        text-align: right;\n",
       "    }\n",
       "</style>\n",
       "<table border=\"1\" class=\"dataframe\">\n",
       "  <thead>\n",
       "    <tr style=\"text-align: right;\">\n",
       "      <th></th>\n",
       "      <th>Patient</th>\n",
       "      <th>FVC_0</th>\n",
       "      <th>FVC_12</th>\n",
       "      <th>FVC_50</th>\n",
       "      <th>SmokingStatus</th>\n",
       "      <th>Sex</th>\n",
       "      <th>Age</th>\n",
       "      <th>Week</th>\n",
       "    </tr>\n",
       "  </thead>\n",
       "  <tbody>\n",
       "    <tr>\n",
       "      <th>0</th>\n",
       "      <td>ID00007637202177411956430</td>\n",
       "      <td>-0.533965</td>\n",
       "      <td>-0.810632</td>\n",
       "      <td>-0.843586</td>\n",
       "      <td>-0.43259</td>\n",
       "      <td>0.517799</td>\n",
       "      <td>1.662082</td>\n",
       "      <td>-0.030075</td>\n",
       "    </tr>\n",
       "    <tr>\n",
       "      <th>1</th>\n",
       "      <td>ID00009637202177434476278</td>\n",
       "      <td>1.150500</td>\n",
       "      <td>1.152282</td>\n",
       "      <td>0.709119</td>\n",
       "      <td>-0.43259</td>\n",
       "      <td>0.517799</td>\n",
       "      <td>0.249433</td>\n",
       "      <td>0.060150</td>\n",
       "    </tr>\n",
       "    <tr>\n",
       "      <th>2</th>\n",
       "      <td>ID00010637202177584971671</td>\n",
       "      <td>0.762048</td>\n",
       "      <td>0.342767</td>\n",
       "      <td>-0.288482</td>\n",
       "      <td>-0.43259</td>\n",
       "      <td>0.517799</td>\n",
       "      <td>-1.021951</td>\n",
       "      <td>0.000000</td>\n",
       "    </tr>\n",
       "  </tbody>\n",
       "</table>\n",
       "</div>"
      ],
      "text/plain": [
       "                     Patient     FVC_0    FVC_12    FVC_50  SmokingStatus  \\\n",
       "0  ID00007637202177411956430 -0.533965 -0.810632 -0.843586       -0.43259   \n",
       "1  ID00009637202177434476278  1.150500  1.152282  0.709119       -0.43259   \n",
       "2  ID00010637202177584971671  0.762048  0.342767 -0.288482       -0.43259   \n",
       "\n",
       "        Sex       Age      Week  \n",
       "0  0.517799  1.662082 -0.030075  \n",
       "1  0.517799  0.249433  0.060150  \n",
       "2  0.517799 -1.021951  0.000000  "
      ]
     },
     "execution_count": 9,
     "metadata": {},
     "output_type": "execute_result"
    }
   ],
   "source": [
    "columns_0 = ['FVC_0', 'SmokingStatus', 'Sex', 'Age']\n",
    "columns_1 = ['FVC_12', 'FVC_50']\n",
    "scaler = StandardScaler().fit(df[columns_0])\n",
    "df[columns_1] = (df[columns_1] - df.FVC_0.mean()) / df.FVC_0.std()\n",
    "df[columns_0] = scaler.transform(df[columns_0])\n",
    "df['Week'] /= 133\n",
    "df.head(3)"
   ]
  },
  {
   "cell_type": "code",
   "execution_count": 10,
   "metadata": {},
   "outputs": [],
   "source": [
    "df.to_csv('data/train_base_3.csv', index=False)"
   ]
  }
 ],
 "metadata": {
  "kernelspec": {
   "display_name": "Python 3",
   "language": "python",
   "name": "python3"
  },
  "language_info": {
   "codemirror_mode": {
    "name": "ipython",
    "version": 3
   },
   "file_extension": ".py",
   "mimetype": "text/x-python",
   "name": "python",
   "nbconvert_exporter": "python",
   "pygments_lexer": "ipython3",
   "version": "3.7.6"
  },
  "pycharm": {
   "stem_cell": {
    "cell_type": "raw",
    "metadata": {
     "collapsed": false
    },
    "source": []
   }
  }
 },
 "nbformat": 4,
 "nbformat_minor": 4
}
